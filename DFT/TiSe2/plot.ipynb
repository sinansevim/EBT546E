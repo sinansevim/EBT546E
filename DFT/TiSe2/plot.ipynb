{
 "cells": [
  {
   "cell_type": "code",
   "execution_count": 1,
   "metadata": {},
   "outputs": [],
   "source": [
    "import numpy as np\n",
    "import matplotlib.pyplot as plt"
   ]
  },
  {
   "cell_type": "code",
   "execution_count": 2,
   "metadata": {},
   "outputs": [],
   "source": [
    "data = np.loadtxt('projbands.out')"
   ]
  },
  {
   "cell_type": "code",
   "execution_count": 6,
   "metadata": {},
   "outputs": [
    {
     "data": {
      "text/plain": [
       "array([[ 1.000000e+00,  1.000000e+00,  1.000000e+00, ...,  6.100000e+01,\n",
       "         6.100000e+01,  6.100000e+01],\n",
       "       [ 0.000000e+00,  0.000000e+00,  0.000000e+00, ...,  1.577350e+00,\n",
       "         1.577350e+00,  1.577350e+00],\n",
       "       [-5.754955e+01, -3.376952e+01, -3.375954e+01, ...,  5.506200e-01,\n",
       "         7.367300e-01,  3.502420e+00],\n",
       "       ...,\n",
       "       [ 7.000000e-03,  1.000000e-03,  0.000000e+00, ...,  0.000000e+00,\n",
       "         5.500000e-02,  0.000000e+00],\n",
       "       [ 0.000000e+00,  0.000000e+00,  0.000000e+00, ...,  2.470000e-01,\n",
       "         0.000000e+00,  1.280000e-01],\n",
       "       [ 0.000000e+00,  0.000000e+00,  0.000000e+00, ...,  2.470000e-01,\n",
       "         0.000000e+00,  1.280000e-01]])"
      ]
     },
     "execution_count": 6,
     "metadata": {},
     "output_type": "execute_result"
    }
   ],
   "source": [
    "data.T s"
   ]
  },
  {
   "cell_type": "code",
   "execution_count": null,
   "metadata": {},
   "outputs": [],
   "source": []
  }
 ],
 "metadata": {
  "interpreter": {
   "hash": "788cc7cece8db3dbd2d96bd3cffc6573ff8e8d1323d4e6855c580b5456366635"
  },
  "kernelspec": {
   "display_name": "Python 3.8.5 ('base')",
   "language": "python",
   "name": "python3"
  },
  "language_info": {
   "codemirror_mode": {
    "name": "ipython",
    "version": 3
   },
   "file_extension": ".py",
   "mimetype": "text/x-python",
   "name": "python",
   "nbconvert_exporter": "python",
   "pygments_lexer": "ipython3",
   "version": "3.8.5"
  },
  "orig_nbformat": 4
 },
 "nbformat": 4,
 "nbformat_minor": 2
}
