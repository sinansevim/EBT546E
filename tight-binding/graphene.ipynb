{
 "cells": [
  {
   "cell_type": "code",
   "execution_count": 2,
   "metadata": {},
   "outputs": [],
   "source": [
    "#Import Libraries\n",
    "\n",
    "#Numerical manipulation\n",
    "import numpy as np\n",
    "\n",
    "#Plotting routine\n",
    "import matplotlib.pyplot as plt\n",
    "from mpl_toolkits.mplot3d import Axes3D\n",
    "%matplotlib widget"
   ]
  },
  {
   "cell_type": "markdown",
   "metadata": {},
   "source": [
    "$E_{\\pm}(\\mathbf{k})=\\pm t \\sqrt{1+4 \\cos \\left(\\frac{3}{2} k_{x} a\\right) \\cos \\left(\\frac{\\sqrt{3}}{2} k_{y} a\\right)+4 \\cos ^{2}\\left(\\frac{\\sqrt{3}}{2} k_{y} a\\right)}$"
   ]
  },
  {
   "cell_type": "code",
   "execution_count": 3,
   "metadata": {},
   "outputs": [],
   "source": [
    "#Define constant\n",
    "\n",
    "# Hopping constant\n",
    "t = 0.1 # eV\n",
    "\n",
    "# Lattice spacing\n",
    "a = 5  # Angstrom\n",
    "\n",
    "# N number of unitcells\n",
    "N = 100\n",
    "\n",
    "# Reciprocal space length\n",
    "g = 2*np.pi/a\n",
    "\n",
    "bz = np.linspace(-g/2,g/2,N)\n",
    "\n",
    "#Define k mesh\n",
    "k_mesh = [[kx,ky]  for kx in bz for ky in bz]\n",
    "\n",
    "#Convert list into array\n",
    "k_mesh = np.array(k_mesh)\n",
    "\n",
    "#Define kx and ky\n",
    "kx, ky = k_mesh.T"
   ]
  },
  {
   "cell_type": "code",
   "execution_count": 22,
   "metadata": {},
   "outputs": [],
   "source": [
    "def graphene(kx,ky,t=t,a=a):\n",
    "    energy = t*np.sqrt(1+4*np.cos(3/2*kx*a)*np.cos(np.sqrt(3)/2*ky*a)+4*np.cos(np.sqrt(3)/2*ky*a)**2)\n",
    "    return energy"
   ]
  },
  {
   "cell_type": "code",
   "execution_count": 23,
   "metadata": {},
   "outputs": [],
   "source": [
    "energy = graphene(kx,ky)"
   ]
  },
  {
   "cell_type": "code",
   "execution_count": 24,
   "metadata": {},
   "outputs": [
    {
     "data": {
      "application/vnd.jupyter.widget-view+json": {
       "model_id": "2c1d739aa5344299bb7b9a853dbdae9a",
       "version_major": 2,
       "version_minor": 0
      },
      "text/plain": [
       "Canvas(toolbar=Toolbar(toolitems=[('Home', 'Reset original view', 'home', 'home'), ('Back', 'Back to previous …"
      ]
     },
     "metadata": {},
     "output_type": "display_data"
    }
   ],
   "source": [
    "fig = plt.figure(figsize=(6,5))\n",
    "plt.scatter(kx,ky,c=energy,cmap=\"jet\")\n",
    "plt.axis(\"equal\")\n",
    "plt.xlabel(r\"$k_x$\")\n",
    "plt.ylabel(r\"$k_y$\")\n",
    "plt.xticks([np.min(kx),0,np.max(kx)],[\"-π/a\",\"0\",\"π/a\"])\n",
    "plt.yticks([np.min(ky),0,np.max(ky)],[\"-π/a\",\"0\",\"π/a\"])\n",
    "plt.colorbar()\n",
    "plt.show()"
   ]
  },
  {
   "cell_type": "code",
   "execution_count": 26,
   "metadata": {},
   "outputs": [],
   "source": [
    "x = y = np.linspace(-g/3, g/3, N)\n",
    "X, Y = np.meshgrid(x, y)\n",
    "zs = np.array(graphene(np.ravel(X), np.ravel(Y)))\n",
    "Z = zs.reshape(X.shape)\n",
    "\n"
   ]
  },
  {
   "cell_type": "code",
   "execution_count": 27,
   "metadata": {},
   "outputs": [
    {
     "data": {
      "application/vnd.jupyter.widget-view+json": {
       "model_id": "3ba5ca44875d4338b7403e90ba5606f6",
       "version_major": 2,
       "version_minor": 0
      },
      "text/plain": [
       "Canvas(toolbar=Toolbar(toolitems=[('Home', 'Reset original view', 'home', 'home'), ('Back', 'Back to previous …"
      ]
     },
     "metadata": {},
     "output_type": "display_data"
    }
   ],
   "source": [
    "fig = plt.figure()\n",
    "ax = fig.add_subplot(111, projection='3d')\n",
    "ax.plot_surface(X, Y, Z)\n",
    "ax.plot_surface(X, Y, -Z)\n",
    "plt.show()"
   ]
  },
  {
   "cell_type": "code",
   "execution_count": null,
   "metadata": {},
   "outputs": [],
   "source": []
  }
 ],
 "metadata": {
  "kernelspec": {
   "display_name": "Python 3",
   "language": "python",
   "name": "python3"
  },
  "language_info": {
   "codemirror_mode": {
    "name": "ipython",
    "version": 3
   },
   "file_extension": ".py",
   "mimetype": "text/x-python",
   "name": "python",
   "nbconvert_exporter": "python",
   "pygments_lexer": "ipython3",
   "version": "3.8.5"
  }
 },
 "nbformat": 4,
 "nbformat_minor": 4
}
