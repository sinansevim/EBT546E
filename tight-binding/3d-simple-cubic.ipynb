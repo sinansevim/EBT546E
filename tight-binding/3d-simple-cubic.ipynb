{
 "cells": [
  {
   "cell_type": "markdown",
   "metadata": {},
   "source": [
    "## 3D Simple Cubic Crystal\n",
    "The SCC model can be written by using previous equation\n",
    "\n",
    "$E(\\mathbf{k})=\\epsilon-t_n\\sum_{\\boldsymbol{n}} e^{i \\mathbf{k} \\cdot \\boldsymbol{n}} $"
   ]
  },
  {
   "cell_type": "markdown",
   "metadata": {},
   "source": [
    "### The nearest neighbor vectors can be written as following [[Reading Material](https://arxiv.org/pdf/1004.2974.pdf)]\n",
    "\n"
   ]
  },
  {
   "cell_type": "markdown",
   "metadata": {},
   "source": [
    "### Using above vectors dispersion relation can be found\n",
    "\n",
    "$E=\\epsilon-2 t (\\cos \\left(k_{x} a \\right) +\\cos \\left(k_{y} a\\right) \n",
    "+\\cos \\left(k_{z} a \\right))$"
   ]
  },
  {
   "cell_type": "code",
   "execution_count": 4,
   "metadata": {},
   "outputs": [],
   "source": [
    "#Import Libraries\n",
    "\n",
    "#Numerical manipulation\n",
    "import numpy as np\n",
    "\n",
    "#Plotting routine\n",
    "import matplotlib.pyplot as plt"
   ]
  },
  {
   "cell_type": "code",
   "execution_count": 5,
   "metadata": {},
   "outputs": [],
   "source": [
    "def bcc(ϵ,t,a,kx,ky,kz):\n",
    "    energy = ϵ-2*(np.cos(kx*a)+np.cos(ky*a)+np.cos(kz*a))\n",
    "    return energy"
   ]
  },
  {
   "cell_type": "code",
   "execution_count": 25,
   "metadata": {},
   "outputs": [],
   "source": [
    "#Define constant\n",
    "\n",
    "# On-site energy \n",
    "ϵ = 0.5 #eV\n",
    "\n",
    "# Hopping constant\n",
    "t = 0.1 # eV\n",
    "\n",
    "# Lattice spacing\n",
    "a = 5  # Angstrom\n",
    "\n",
    "# N number of unitcells\n",
    "N = 100\n",
    "\n",
    "# Reciprocal space length\n",
    "g = 2*np.pi/a"
   ]
  },
  {
   "cell_type": "markdown",
   "metadata": {},
   "source": [
    "### Energy profile of BCC can be plotted by using high symmetry points [[Reading Material]](https://arxiv.org/pdf/1004.2974.pdf)"
   ]
  },
  {
   "cell_type": "code",
   "execution_count": 26,
   "metadata": {},
   "outputs": [],
   "source": [
    "bz = np.linspace(-g/2,g/2,N)\n",
    "\n",
    "#Define k mesh\n",
    "k_mesh = [[kx,ky,kz]  for kx in bz for ky in bz for kz in bz]\n",
    "\n",
    "#Convert list into array\n",
    "k_mesh = np.array(k_mesh)\n",
    "\n",
    "#Define kx and ky\n",
    "kx, ky, kz = k_mesh.T"
   ]
  },
  {
   "cell_type": "code",
   "execution_count": 27,
   "metadata": {},
   "outputs": [],
   "source": [
    "energy = bcc(ϵ,t,a,kx,ky,kz)"
   ]
  },
  {
   "cell_type": "code",
   "execution_count": 28,
   "metadata": {},
   "outputs": [
    {
     "data": {
      "text/plain": [
       "6.5"
      ]
     },
     "execution_count": 28,
     "metadata": {},
     "output_type": "execute_result"
    }
   ],
   "source": [
    "max(energy)"
   ]
  },
  {
   "cell_type": "code",
   "execution_count": 29,
   "metadata": {},
   "outputs": [
    {
     "data": {
      "text/plain": [
       "-5.49697925429911"
      ]
     },
     "execution_count": 29,
     "metadata": {},
     "output_type": "execute_result"
    }
   ],
   "source": [
    "min(energy)"
   ]
  },
  {
   "cell_type": "code",
   "execution_count": 69,
   "metadata": {},
   "outputs": [],
   "source": [
    "#Data analysis library\n",
    "import pandas as pd\n",
    "\n",
    "#Fermi surface function\n",
    "def fermi_surface(kx,ky,kz,energy,μ,δ):\n",
    "    df = pd.DataFrame()\n",
    "    df[\"kx\"]=kx\n",
    "    df[\"ky\"]=ky\n",
    "    df[\"kz\"]=kz\n",
    "    df[\"E\"]=energy\n",
    "    fs = df.query(f\"{μ} - {δ} <= E <= {μ} + {δ}\")\n",
    "    return fs.kx,fs.ky,fs.kz, fs.E"
   ]
  },
  {
   "cell_type": "code",
   "execution_count": 31,
   "metadata": {},
   "outputs": [],
   "source": [
    "%matplotlib widget"
   ]
  },
  {
   "cell_type": "code",
   "execution_count": 70,
   "metadata": {},
   "outputs": [],
   "source": [
    "fs_kx, fs_ky, fs_kz, E = fermi_surface(kx,ky,kz,energy,μ=1,δ=0.05)"
   ]
  },
  {
   "cell_type": "code",
   "execution_count": 74,
   "metadata": {},
   "outputs": [
    {
     "data": {
      "application/vnd.jupyter.widget-view+json": {
       "model_id": "03868c690288479fb16b9de8265e2163",
       "version_major": 2,
       "version_minor": 0
      },
      "text/plain": [
       "Canvas(toolbar=Toolbar(toolitems=[('Home', 'Reset original view', 'home', 'home'), ('Back', 'Back to previous …"
      ]
     },
     "metadata": {},
     "output_type": "display_data"
    },
    {
     "data": {
      "text/plain": [
       "<mpl_toolkits.mplot3d.art3d.Path3DCollection at 0x7fb9736b39d0>"
      ]
     },
     "execution_count": 74,
     "metadata": {},
     "output_type": "execute_result"
    }
   ],
   "source": [
    "fig = plt.figure(figsize=(6,6))\n",
    "ax = fig.add_subplot(projection='3d')\n",
    "ax.scatter(fs_kx, fs_ky, fs_kz)"
   ]
  },
  {
   "cell_type": "code",
   "execution_count": null,
   "metadata": {},
   "outputs": [],
   "source": []
  },
  {
   "cell_type": "code",
   "execution_count": null,
   "metadata": {},
   "outputs": [],
   "source": []
  }
 ],
 "metadata": {
  "kernelspec": {
   "display_name": "Python 3",
   "language": "python",
   "name": "python3"
  },
  "language_info": {
   "codemirror_mode": {
    "name": "ipython",
    "version": 3
   },
   "file_extension": ".py",
   "mimetype": "text/x-python",
   "name": "python",
   "nbconvert_exporter": "python",
   "pygments_lexer": "ipython3",
   "version": "3.8.5"
  }
 },
 "nbformat": 4,
 "nbformat_minor": 4
}
